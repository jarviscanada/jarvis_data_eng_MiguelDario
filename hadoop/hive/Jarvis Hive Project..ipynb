﻿{
  "metadata": {
    "name": "Jarvis Hive Project",
    "kernelspec": {
      "language": "scala",
      "name": "spark2-scala"
    },
    "language_info": {
      "codemirror_mode": "text/x-scala",
      "file_extension": ".scala",
      "mimetype": "text/x-scala",
      "name": "scala",
      "pygments_lexer": "scala"
    }
  },
  "nbformat": 4,
  "nbformat_minor": 2,
  "cells": [
    {
      "cell_type": "code",
      "execution_count": 0,
      "metadata": {
        "autoscroll": "auto"
      },
      "outputs": [],
      "source": "\n%md \n# Query GS data\n- Create a hive table (\u0027wdi_gs\u0027) against the gs wdi_2016 data.\n- Count the number of rows from the wdi_gs table"
    },
    {
      "cell_type": "code",
      "execution_count": 1,
      "metadata": {
        "autoscroll": "auto"
      },
      "outputs": [],
      "source": "DROP TABLE IF EXISTS wdi_gs"
    },
    {
      "cell_type": "code",
      "execution_count": 2,
      "metadata": {
        "autoscroll": "auto"
      },
      "outputs": [],
      "source": "CREATE EXTERNAL TABLE wdi_gs\n(year INTEGER, countryName STRING, countryCode STRING, indicatorName STRING, indicatorCode STRING, indicatorValue FLOAT)\nROW FORMAT DELIMITED FIELDS TERMINATED BY \u0027,\u0027 LINES TERMINATED BY \u0027\\n\u0027\nLOCATION \u0027gs://jarvis_data_eng_miguel/datasets/wdi_2016\u0027\nTBLPROPERTIES (\"skip.header.line.count\"\u003d\"1\")"
    },
    {
      "cell_type": "code",
      "execution_count": 3,
      "metadata": {
        "autoscroll": "auto"
      },
      "outputs": [],
      "source": "DESCRIBE FORMATTED wdi_gs"
    },
    {
      "cell_type": "code",
      "execution_count": 4,
      "metadata": {
        "autoscroll": "auto"
      },
      "outputs": [],
      "source": "SELECT count(countryName) FROM wdi_gs"
    },
    {
      "cell_type": "markdown",
      "metadata": {},
      "source": "# Load GS data into HDFS\n- Create home directory\n- Create an external table calles wdi_csv_txt\n- Run an INSERT OVERWRITE query that loads data from wdi_gs to wdi_csv_txt table"
    },
    {
      "cell_type": "code",
      "execution_count": 6,
      "metadata": {
        "autoscroll": "auto"
      },
      "outputs": [],
      "source": "%sh\nhdfs dfs -ls /user"
    },
    {
      "cell_type": "code",
      "execution_count": 7,
      "metadata": {
        "autoscroll": "auto"
      },
      "outputs": [],
      "source": "%sh\nhdfs dfs -mkdir /user/mdario\nhdfs dfs -ls /user"
    },
    {
      "cell_type": "code",
      "execution_count": 8,
      "metadata": {
        "autoscroll": "auto"
      },
      "outputs": [],
      "source": "DROP TABLE IF EXISTS wdi_csv_text\n"
    },
    {
      "cell_type": "code",
      "execution_count": 9,
      "metadata": {
        "autoscroll": "auto"
      },
      "outputs": [],
      "source": "CREATE EXTERNAL TABLE wdi_csv_text\r\n(year INTEGER, countryName STRING, countryCode STRING, indicatorName STRING, indicatorCode STRING, indicatorValue FLOAT)\r\nROW FORMAT DELIMITED FIELDS TERMINATED BY \u0027,\u0027 LINES TERMINATED BY \u0027\\n\u0027\r\nLOCATION \u0027hdfs:///user/mdario/hive/wdi/wdi_csv_text\u0027;"
    },
    {
      "cell_type": "code",
      "execution_count": 10,
      "metadata": {
        "autoscroll": "auto"
      },
      "outputs": [],
      "source": "INSERT OVERWRITE TABLE wdi_csv_text\nSELECT * FROM wdi_gs"
    },
    {
      "cell_type": "code",
      "execution_count": 11,
      "metadata": {
        "autoscroll": "auto"
      },
      "outputs": [],
      "source": "%sh\nhdfs dfs -ls -h /user/mdario/hive/wdi/wdi_csv_text"
    },
    {
      "cell_type": "code",
      "execution_count": 12,
      "metadata": {
        "autoscroll": "auto"
      },
      "outputs": [],
      "source": "%sh \nhdfs dfs -du -s -h /user/mdario/hive/wdi/wdi_csv_text"
    },
    {
      "cell_type": "markdown",
      "metadata": {},
      "source": "## Observing execution time\n- Execute a SELECT query twice to obsersve differences in execution time\n- The first query took 55 seconds to run, while the second query took 31 seconds. The reason the second query was quicker to run is because the task has been cached. \n- When a request is ran again, it can fetch data from the cache rather than from the disk. \n- In order to clear the cache, run: echo 3 | sudo tee /proc/sys/vm/drop_caches in command line\n- After clearing the cache on the master node, and both dependent nodes, the query took 34 seconds to execute"
    },
    {
      "cell_type": "markdown",
      "metadata": {},
      "source": "## First query"
    },
    {
      "cell_type": "markdown",
      "metadata": {},
      "source": "## Second query"
    },
    {
      "cell_type": "code",
      "execution_count": 16,
      "metadata": {
        "autoscroll": "auto"
      },
      "outputs": [],
      "source": "SELECT count(countryName) FROM wdi_csv_text"
    },
    {
      "cell_type": "code",
      "execution_count": 17,
      "metadata": {
        "autoscroll": "auto"
      },
      "outputs": [],
      "source": "SELECT count(countryName) FROM wdi_csv_text"
    },
    {
      "cell_type": "markdown",
      "metadata": {},
      "source": " \n## Third query (After clearing cache)"
    },
    {
      "cell_type": "code",
      "execution_count": 19,
      "metadata": {
        "autoscroll": "auto"
      },
      "outputs": [],
      "source": "SELECT count(countryName) FROM wdi_csv_text"
    },
    {
      "cell_type": "markdown",
      "metadata": {},
      "source": "# Hive vs Bash\n- Bash script to copy wdi_csv_txt to master node, and count the number of rows\n- Compared to using hive, the bash approach was quciker to execute since the job is distributed between two other nodes\n "
    },
    {
      "cell_type": "code",
      "execution_count": 21,
      "metadata": {
        "autoscroll": "auto"
      },
      "outputs": [],
      "source": "%sh\ncd ~\nhdfs dfs -get hdfs:///user/mdario/hive/wdi/wdi_csv_text .\n\ncd wdi_csv_text\n\n#calculate current directory size\ndu -ch .\n\necho 3 | sudo tee /proc/sys/vm/drop_caches\ndate +%s \u0026\u0026 cat * | wc \u0026\u0026 date +%s"
    },
    {
      "cell_type": "markdown",
      "metadata": {},
      "source": " \n# Parsing issue\n- Since wdi_csv_text uses the default SerDe, LazySimpleSerDe, it is treating all columns as one string\n- In the actual data, there is some data that contains a comma enclosed in quotation marks, so the interpreter gets confused as to what to parse\n"
    },
    {
      "cell_type": "code",
      "execution_count": 23,
      "metadata": {
        "autoscroll": "auto"
      },
      "outputs": [],
      "source": "SELECT distinct(indicatorcode)\nFROM wdi_csv_text\nORDER BY indicatorcode\nLIMIT 20;\n"
    },
    {
      "cell_type": "markdown",
      "metadata": {},
      "source": "## Creating a debug table\n- Create a debug table without any SerDe parsing"
    },
    {
      "cell_type": "code",
      "execution_count": 25,
      "metadata": {
        "autoscroll": "auto"
      },
      "outputs": [],
      "source": "CREATE EXTERNAL TABLE wdi_gs_debug\n(line STRING)\nLOCATION \u0027gs://jarvis_data_eng_miguel/datasets/wdi_2016\u0027\nTBLPROPERTIES (\"skip.header.line.count\"\u003d\"1\")"
    },
    {
      "cell_type": "code",
      "execution_count": 26,
      "metadata": {
        "autoscroll": "auto"
      },
      "outputs": [],
      "source": "SELECT * \nFROM wdi_gs_debug\nWHERE line like \"%\\(\\% of urban population\\)\\\"%\""
    },
    {
      "cell_type": "markdown",
      "metadata": {},
      "source": " \n# Create a table with OpenCSV SerDe\n"
    },
    {
      "cell_type": "code",
      "execution_count": 28,
      "metadata": {
        "autoscroll": "auto"
      },
      "outputs": [],
      "source": "CREATE EXTERNAL TABLE wdi_opencsv_gs\n(year INTEGER, countryName STRING, countryCode STRING, indicatorName STRING, indicatorCode STRING, indicatorValue FLOAT)\nROW FORMAT SERDE \u0027org.apache.hadoop.hive.serde2.OpenCSVSerde\u0027\nLOCATION \u0027gs://jarvis_data_eng_miguel/datasets/wdi_2016\u0027\nTBLPROPERTIES (\"skip.header.line.count\"\u003d\"1\")\n"
    },
    {
      "cell_type": "code",
      "execution_count": 29,
      "metadata": {
        "autoscroll": "auto"
      },
      "outputs": [],
      "source": "CREATE EXTERNAL TABLE wdi_opencsv_text\n(year INTEGER, countryName STRING, countryCode STRING, indicatorName STRING, indicatorCode STRING, indicatorValue FLOAT)\nROW FORMAT SERDE \u0027org.apache.hadoop.hive.serde2.OpenCSVSerde\u0027\nLOCATION \u0027hdfs:///user/mdario/hive/wdi/wdi_opencsv_text\u0027"
    },
    {
      "cell_type": "code",
      "execution_count": 30,
      "metadata": {
        "autoscroll": "auto"
      },
      "outputs": [],
      "source": "INSERT OVERWRITE TABLE wdi_opencsv_text\nSELECT * FROM wdi_opencsv_gs"
    },
    {
      "cell_type": "code",
      "execution_count": 31,
      "metadata": {
        "autoscroll": "auto"
      },
      "outputs": [],
      "source": "SELECT DISTINCT(indicatorcode)\nFROM wdi_opencsv_text\nORDER BY indicatorcode ASC\nLIMIT 20"
    },
    {
      "cell_type": "markdown",
      "metadata": {},
      "source": "## Comparing the execution time of wdi_opencsv_text and wdi_csv_text\n- The execution time on wdi_opencsv_text is significantly slower than wdi_csv_text. This is because of the SerDe used. "
    },
    {
      "cell_type": "markdown",
      "metadata": {},
      "source": " \n# wdi_opencsv_text"
    },
    {
      "cell_type": "markdown",
      "metadata": {},
      "source": "# wdi_csv_text"
    },
    {
      "cell_type": "code",
      "execution_count": 35,
      "metadata": {
        "autoscroll": "auto"
      },
      "outputs": [],
      "source": "SELECT COUNT(countryname) FROM wdi_opencsv_text"
    },
    {
      "cell_type": "code",
      "execution_count": 36,
      "metadata": {
        "autoscroll": "auto"
      },
      "outputs": [],
      "source": "SELECT count(countryName) FROM wdi_csv_text"
    },
    {
      "cell_type": "markdown",
      "metadata": {},
      "source": "# OpenCSV limitation\n- This SerDe treats all columns to be of type String. Even if you create a table with non-string column types using this SerDe, the DESCRIBE TABLE output would show string column type.\n- To convert columns to a desired type, a view must be created in order to CAST to the desired type\n- The metadata for wdi_opencsv_text and wdi_csv_text are compared below"
    },
    {
      "cell_type": "markdown",
      "metadata": {},
      "source": "# open_csv_text"
    },
    {
      "cell_type": "markdown",
      "metadata": {},
      "source": "# csv_text"
    },
    {
      "cell_type": "code",
      "execution_count": 40,
      "metadata": {
        "autoscroll": "auto"
      },
      "outputs": [],
      "source": "DESCRIBE FORMATTED wdi_opencsv_text"
    },
    {
      "cell_type": "code",
      "execution_count": 41,
      "metadata": {
        "autoscroll": "auto"
      },
      "outputs": [],
      "source": "DESCRIBE FORMATTED wdi_csv_text"
    },
    {
      "cell_type": "code",
      "execution_count": 42,
      "metadata": {
        "autoscroll": "auto"
      },
      "outputs": [],
      "source": "CREATE VIEW IF NOT EXISTS wdi_opencsv_text_view\nAS\nSELECT CAST(year AS INT), countryname, countrycode, indicatorname, indicatorcode, CAST(indicatorvalue AS FLOAT)\nFROM wdi_opencsv_text"
    },
    {
      "cell_type": "markdown",
      "metadata": {},
      "source": " \n# 2015 Canada GDP Growth"
    },
    {
      "cell_type": "markdown",
      "metadata": {},
      "source": "## Determine indicator name"
    },
    {
      "cell_type": "code",
      "execution_count": 45,
      "metadata": {
        "autoscroll": "auto"
      },
      "outputs": [],
      "source": "SELECT indicatorvalue AS gdp_growth_value,\nyear,\ncountryname\nFROM wdi_opencsv_text\nWHERE indicatorname LIKE \u0027%GDP growth%\u0027"
    },
    {
      "cell_type": "markdown",
      "metadata": {},
      "source": "## 2015 Canada GDP growth\n- The query took 1 minute and 40 seconds to run. This can be optimized by partitioning the table by year."
    },
    {
      "cell_type": "code",
      "execution_count": 47,
      "metadata": {
        "autoscroll": "auto"
      },
      "outputs": [],
      "source": "SELECT indicatorvalue AS gdp_growth_value,\nyear,\ncountryname\nFROM wdi_opencsv_text\nWHERE indicatorname LIKE \u0027%GDP growth%\u0027\nAND year \u003d 2015\nAND countryname \u003d \u0027Canada\u0027"
    },
    {
      "cell_type": "markdown",
      "metadata": {},
      "source": " \n# Hive partitions\n- Partition the table by year\n- Compare execution time between partitioned, and non-partitioned table"
    },
    {
      "cell_type": "code",
      "execution_count": 49,
      "metadata": {
        "autoscroll": "auto"
      },
      "outputs": [],
      "source": "DROP TABLE IF EXISTS wdi_opencsv_text_partitions"
    },
    {
      "cell_type": "code",
      "execution_count": 50,
      "metadata": {
        "autoscroll": "auto"
      },
      "outputs": [],
      "source": "CREATE EXTERNAL TABLE IF NOT EXISTS wdi_opencsv_text_partitions\n(countryName STRING, countrycode STRING, indicatorName STRING, indicatorcode STRING, indicatorValue FLOAT)\nPARTITIONED BY (year INTEGER)\nROW FORMAT SERDE \u0027org.apache.hadoop.hive.serde2.OpenCSVSerde\u0027\nWITH SERDEPROPERTIES (\n   \"separatorChar\" \u003d \"\\t\",\n   \"quoteChar\"     \u003d \"\u0027\",\n   \"escapeChar\"    \u003d \"\\\\\"\n)\nLOCATION \u0027hdfs:///user/mdario/hive/wdi/wdi_opencsv_text_partitions\u0027"
    },
    {
      "cell_type": "code",
      "execution_count": 51,
      "metadata": {
        "autoscroll": "auto"
      },
      "outputs": [],
      "source": "SET hive.exec.dynamic.partition.mode\u003dnonstrict;"
    },
    {
      "cell_type": "code",
      "execution_count": 52,
      "metadata": {
        "autoscroll": "auto"
      },
      "outputs": [],
      "source": "INSERT OVERWRITE TABLE wdi_opencsv_text_partitions\nSELECT countryname, countrycode, indicatorname, indicatorcode, indicatorvalue, year\nFROM wdi_opencsv_text"
    },
    {
      "cell_type": "code",
      "execution_count": 53,
      "metadata": {
        "autoscroll": "auto"
      },
      "outputs": [],
      "source": "SELECT indicatorvalue AS gdp_growth_value,\nyear,\ncountryname\nFROM wdi_opencsv_text_partitions\nWHERE indicatorname LIKE \u0027%GDP growth%\u0027\nAND year \u003d 2015\nAND countryname \u003d \u0027Canada\u0027"
    },
    {
      "cell_type": "markdown",
      "metadata": {},
      "source": "## Show all partitions"
    },
    {
      "cell_type": "code",
      "execution_count": 55,
      "metadata": {
        "autoscroll": "auto"
      },
      "outputs": [],
      "source": "%sh \nhdfs dfs -ls -h hdfs:///user/mdario/hive/wdi/wdi_opencsv_text_partitions\n"
    },
    {
      "cell_type": "markdown",
      "metadata": {},
      "source": " \n## Partition table performance\n- The query on the partitioned data took 21 seconds to execute which is significantly faster than the non-partitioned table"
    },
    {
      "cell_type": "markdown",
      "metadata": {},
      "source": "# Columnar Files"
    },
    {
      "cell_type": "code",
      "execution_count": 58,
      "metadata": {
        "autoscroll": "auto"
      },
      "outputs": [],
      "source": "DROP TABLE IF EXISTS wdi_csv_parquet\n"
    },
    {
      "cell_type": "code",
      "execution_count": 59,
      "metadata": {
        "autoscroll": "auto"
      },
      "outputs": [],
      "source": "CREATE EXTERNAL TABLE wdi_csv_parquet\n(year INTEGER, countryName STRING, countryCode STRING, indicatorName STRING, indicatorCode STRING, indicatorValue FLOAT)\nSTORED AS PARQUET\nLOCATION \u0027hdfs:///user/mdario/hive/wdi/wdi_csv_parquet\u0027\n"
    },
    {
      "cell_type": "code",
      "execution_count": 60,
      "metadata": {
        "autoscroll": "auto"
      },
      "outputs": [],
      "source": "INSERT OVERWRITE TABLE wdi_csv_parquet\nSELECT * FROM wdi_opencsv_text"
    },
    {
      "cell_type": "markdown",
      "metadata": {},
      "source": "## File size comparison\n- csv parquet has a size of 135.8 MB\n- opencsv has a size of 2.3GB"
    },
    {
      "cell_type": "markdown",
      "metadata": {},
      "source": "### csv parquet"
    },
    {
      "cell_type": "markdown",
      "metadata": {},
      "source": "### opencsv text"
    },
    {
      "cell_type": "code",
      "execution_count": 64,
      "metadata": {
        "autoscroll": "auto"
      },
      "outputs": [],
      "source": "%sh\nhdfs dfs -du -s -h /user/mdario/hive/wdi/wdi_csv_parquet"
    },
    {
      "cell_type": "code",
      "execution_count": 65,
      "metadata": {
        "autoscroll": "auto"
      },
      "outputs": [],
      "source": "%sh\nhdfs dfs -du -s -h /user/mdario/hive/wdi/wdi_opencsv_text"
    },
    {
      "cell_type": "markdown",
      "metadata": {},
      "source": "## Compare runtime"
    },
    {
      "cell_type": "markdown",
      "metadata": {},
      "source": "### csv parquet"
    },
    {
      "cell_type": "markdown",
      "metadata": {},
      "source": "### opencsv text"
    },
    {
      "cell_type": "code",
      "execution_count": 69,
      "metadata": {
        "autoscroll": "auto"
      },
      "outputs": [],
      "source": "SELECT COUNT(countryname) \nFROM wdi_csv_parquet"
    },
    {
      "cell_type": "code",
      "execution_count": 70,
      "metadata": {
        "autoscroll": "auto"
      },
      "outputs": [],
      "source": "SELECT COUNT(countryname)\nFROM wdi_opencsv_text"
    },
    {
      "cell_type": "markdown",
      "metadata": {},
      "source": " \n## 2015 GDP growth parquet vs opencsv"
    },
    {
      "cell_type": "markdown",
      "metadata": {},
      "source": "### parquet\n"
    },
    {
      "cell_type": "markdown",
      "metadata": {},
      "source": "### opencsv"
    },
    {
      "cell_type": "code",
      "execution_count": 74,
      "metadata": {
        "autoscroll": "auto"
      },
      "outputs": [],
      "source": "SELECT indicatorvalue AS gdp_growth_value,\nyear,\ncountryname\nFROM wdi_csv_parquet\nWHERE indicatorname LIKE \u0027%GDP growth%\u0027\nAND year \u003d 2015\nAND countryname \u003d \u0027Canada\u0027\n"
    },
    {
      "cell_type": "code",
      "execution_count": 75,
      "metadata": {
        "autoscroll": "auto"
      },
      "outputs": [],
      "source": "SELECT indicatorvalue AS gdp_growth_value,\nyear,\ncountryname\nFROM wdi_opencsv_text\nWHERE indicatorname LIKE \u0027%GDP growth%\u0027\nAND year \u003d 2015\nAND countryname \u003d \u0027Canada\u0027"
    },
    {
      "cell_type": "markdown",
      "metadata": {},
      "source": "### query performance\n- parquet (33 secs) was significantly faster than opencsv (1m 41 secs)"
    },
    {
      "cell_type": "markdown",
      "metadata": {},
      "source": "# Highest GDP growth Hive vs Spark\n- Find the highest GDP growth for each country, and what year this was achieved\n- The spark query was faster by 17 seconds. "
    },
    {
      "cell_type": "markdown",
      "metadata": {},
      "source": "## Hive"
    },
    {
      "cell_type": "markdown",
      "metadata": {},
      "source": "## Spark"
    },
    {
      "cell_type": "code",
      "execution_count": 80,
      "metadata": {
        "autoscroll": "auto"
      },
      "outputs": [],
      "source": "SELECT \ntb1.indicatorvalue AS gdp_growth_value,\ntb1.year,\ntb1.countryname\nFROM wdi_csv_parquet tb1,\n    (SELECT countryname, max(indicatorvalue) AS max_gdp\n    FROM wdi_csv_parquet\n    WHERE indicatorname LIKE \u0027%GDP growth%\u0027\n    GROUP BY countryname) tb2\nWHERE\n    tb1.countryname \u003d tb2.countryname AND\n    tb1.indicatorvalue \u003d tb2.max_gdp AND\n    tb1.indicatorvalue !\u003d 0"
    },
    {
      "cell_type": "code",
      "execution_count": 81,
      "metadata": {
        "autoscroll": "auto"
      },
      "outputs": [],
      "source": "%spark.sql\nSELECT \ntb1.indicatorvalue AS gdp_growth_value,\ntb1.year,\ntb1.countryname\nFROM wdi_csv_parquet tb1,\n    (SELECT countryname, max(indicatorvalue) AS max_gdp\n    FROM wdi_csv_parquet\n    WHERE indicatorname LIKE \u0027%GDP growth%\u0027\n    GROUP BY countryname) tb2\nWHERE\n    tb1.countryname \u003d tb2.countryname AND\n    tb1.indicatorvalue \u003d tb2.max_gdp AND\n    tb1.indicatorvalue !\u003d 0;"
    },
    {
      "cell_type": "markdown",
      "metadata": {},
      "source": "# GDP growth for all countries\n- Find the GDP Growth for all countries\n- Sort by country name, and year\n"
    },
    {
      "cell_type": "code",
      "execution_count": 83,
      "metadata": {
        "autoscroll": "auto"
      },
      "outputs": [],
      "source": "SELECT countryname,\nyear,\nindicatorcode,\nindicatorvalue\nFROM wdi_csv_parquet\nWHERE indicatorcode \u003d \u0027NY.GDP.MKTP.KD.ZG\u0027\nSORT BY countryname, year\n"
    }
  ]
}